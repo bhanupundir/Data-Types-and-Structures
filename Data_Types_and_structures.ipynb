{
  "nbformat": 4,
  "nbformat_minor": 0,
  "metadata": {
    "colab": {
      "provenance": []
    },
    "kernelspec": {
      "name": "python3",
      "display_name": "Python 3"
    },
    "language_info": {
      "name": "python"
    }
  },
  "cells": [
    {
      "cell_type": "code",
      "execution_count": null,
      "metadata": {
        "id": "2frGSTTmhfkv"
      },
      "outputs": [],
      "source": []
    },
    {
      "cell_type": "markdown",
      "source": [
        "# Data Types and structures"
      ],
      "metadata": {
        "id": "OTVGMQwTh_Yi"
      }
    },
    {
      "cell_type": "markdown",
      "source": [
        "**Theory**"
      ],
      "metadata": {
        "id": "hGSxRYZyiM45"
      }
    },
    {
      "cell_type": "markdown",
      "source": [
        "**1.What are data structures, and why are they important**"
      ],
      "metadata": {
        "id": "ZrSeIC2niRQh"
      }
    },
    {
      "cell_type": "markdown",
      "source": [
        "Ans-->\n",
        "**Data structures** are ways of organizing and storing data so that it can be accessed and modified efficiently. They provide a way to manage large amounts of data for different types of applications, such as databases, operating systems, or real-time applications.\n",
        "\n",
        "### Types of Data Structures\n",
        "- **Primitive data structures**: These are basic types like integers, floats, and characters.\n",
        "- **Non-primitive data structures**: These include arrays, linked lists, stacks, queues, trees, and graphs. They are used to store collections of data.\n",
        "\n",
        "### Why Data Structures Are Important:\n",
        "1. **Efficient Data Management**: Data structures help organize data efficiently, making it easier to store, access, and modify. For example, a stack allows efficient addition and removal of data, while a linked list allows dynamic memory allocation.\n",
        "   \n",
        "2. **Optimized Performance**: The right data structure can drastically improve the performance of an algorithm. For example, a hash table can provide faster data retrieval than a list.\n",
        "\n",
        "3. **Resource Management**: Data structures help manage memory and other resources efficiently. For instance, trees and graphs can help model hierarchical relationships and networks.\n",
        "\n",
        "4. **Problem Solving**: Choosing the appropriate data structure is crucial for solving complex computational problems. For example, in a graph, paths between nodes can be efficiently searched using algorithms like BFS or DFS.\n",
        "\n",
        "In short, understanding data structures is essential for writing efficient, maintainable code and solving problems in a computationally optimal manner."
      ],
      "metadata": {
        "id": "p9Z1YBoZiifJ"
      }
    },
    {
      "cell_type": "markdown",
      "source": [
        "**2.Explain the difference between mutable and immutable data types with examples.**"
      ],
      "metadata": {
        "id": "aX0tZVTAisfJ"
      }
    },
    {
      "cell_type": "markdown",
      "source": [
        "Ans-->\n",
        "In programming, **mutable** and **immutable** refer to whether the contents or state of a data type can be modified after it is created.\n",
        "\n",
        "### **Mutable Data Types**\n",
        "A **mutable** data type allows the modification of its content or state after creation. This means that you can change the data within an object without creating a new object.\n",
        "\n",
        "#### Examples of mutable data types in Python:\n",
        "1. **Lists**: You can add, remove, or modify elements of a list.\n",
        "   ```python\n",
        "   my_list = [1, 2, 3]\n",
        "   my_list[0] = 10         # Modify an element\n",
        "   my_list.append(4)       # Add an element\n",
        "   print(my_list)          # Output: [10, 2, 3, 4]\n",
        "   ```\n",
        "\n",
        "2. **Dictionaries**: You can change the key-value pairs.\n",
        "   ```python\n",
        "   my_dict = {'a': 1, 'b': 2}\n",
        "   my_dict['a'] = 10       # Modify a value\n",
        "   my_dict['c'] = 3        # Add a new key-value pair\n",
        "   print(my_dict)          # Output: {'a': 10, 'b': 2, 'c': 3}\n",
        "   ```\n",
        "\n",
        "3. **Sets**: You can add or remove elements from a set.\n",
        "   ```python\n",
        "   my_set = {1, 2, 3}\n",
        "   my_set.add(4)           # Add an element\n",
        "   my_set.remove(2)        # Remove an element\n",
        "   print(my_set)           # Output: {1, 3, 4}\n",
        "   ```\n",
        "\n",
        "### **Immutable Data Types**\n",
        "An **immutable** data type does not allow modification of its content or state once it is created. Any modification results in the creation of a new object.\n",
        "\n",
        "#### Examples of immutable data types in Python:\n",
        "1. **Tuples**: You cannot modify, add, or remove elements from a tuple.\n",
        "   ```python\n",
        "   my_tuple = (1, 2, 3)\n",
        "   # The following lines would raise errors:\n",
        "   # my_tuple[0] = 10\n",
        "   # my_tuple.append(4)\n",
        "   ```\n",
        "\n",
        "2. **Strings**: Strings are immutable, meaning you can't change an individual character of a string directly.\n",
        "   ```python\n",
        "   my_str = \"hello\"\n",
        "   # The following line would raise an error:\n",
        "   # my_str[0] = \"H\"\n",
        "   # To \"modify\" a string, you must create a new one:\n",
        "   my_str = \"H\" + my_str[1:]  # \"Hello\"\n",
        "   ```\n",
        "\n",
        "3. **Frozensets**: A frozenset is an immutable version of a set, and its elements cannot be modified.\n",
        "   ```python\n",
        "   my_frozenset = frozenset([1, 2, 3])\n",
        "   # The following lines would raise errors:\n",
        "   # my_frozenset.add(4)\n",
        "   # my_frozenset.remove(1)\n",
        "   ```\n",
        "\n",
        "### Key Differences:\n",
        "- **Mutability**: Mutable types can be changed after creation, while immutable types cannot.\n",
        "- **Memory Efficiency**: Since immutable objects cannot be altered, Python can optimize memory usage by reusing them, whereas mutable objects may need to be copied or reallocated.\n",
        "- **Usage**: Mutable types are useful when you need to change data frequently, whereas immutable types are often used to ensure that data does not change unexpectedly, offering safety in concurrent programming or as dictionary keys.\n",
        "\n",
        "### Summary\n",
        "- **Mutable**: Lists, Dictionaries, Sets\n",
        "- **Immutable**: Tuples, Strings, Frozensets\n",
        "\n",
        "Understanding the distinction between mutable and immutable types is important for managing state and optimizing performance in programming."
      ],
      "metadata": {
        "id": "yNoYnchUi1wR"
      }
    },
    {
      "cell_type": "markdown",
      "source": [],
      "metadata": {
        "id": "RSVoIcbIi-2C"
      }
    },
    {
      "cell_type": "markdown",
      "source": [
        "**3.What are the main differences between lists and tuples in Python?**"
      ],
      "metadata": {
        "id": "hASQOW6NjDCo"
      }
    },
    {
      "cell_type": "markdown",
      "source": [
        "Ans-->\n",
        "In Python, **lists** and **tuples** are both used to store collections of items, but there are key differences between them:\n",
        "\n",
        "### 1. **Mutability:**\n",
        "   - **List:** Lists are **mutable**, meaning that their elements can be modified after the list is created (e.g., adding, removing, or changing items).\n",
        "     ```python\n",
        "     my_list = [1, 2, 3]\n",
        "     my_list[0] = 10  # Modifying the first element\n",
        "     ```\n",
        "   - **Tuple:** Tuples are **immutable**, meaning once created, their elements cannot be changed.\n",
        "     ```python\n",
        "     my_tuple = (1, 2, 3)\n",
        "     # my_tuple[0] = 10  # This would raise an error\n",
        "     ```\n",
        "\n",
        "### 2. **Syntax:**\n",
        "   - **List:** Lists are created using square brackets `[]`.\n",
        "     ```python\n",
        "     my_list = [1, 2, 3]\n",
        "     ```\n",
        "   - **Tuple:** Tuples are created using parentheses `()`.\n",
        "     ```python\n",
        "     my_tuple = (1, 2, 3)\n",
        "     ```\n",
        "\n",
        "### 3. **Performance:**\n",
        "   - **List:** Since lists are mutable, they are typically slower than tuples when it comes to iteration and access, due to the overhead of their flexibility.\n",
        "   - **Tuple:** Tuples are generally faster than lists, especially for iteration, because they are immutable and require less memory.\n",
        "\n",
        "### 4. **Use Cases:**\n",
        "   - **List:** Lists are used when the collection of items needs to be modified (e.g., appending or removing items).\n",
        "   - **Tuple:** Tuples are used when the collection should remain constant and unchanged, providing a guarantee that the data will not be altered.\n",
        "\n",
        "### 5. **Methods:**\n",
        "   - **List:** Lists have many built-in methods for modification, such as `.append()`, `.remove()`, `.pop()`, and `.sort()`.\n",
        "   - **Tuple:** Tuples have fewer methods available, mainly `.count()` and `.index()`, as they cannot be modified.\n",
        "\n",
        "### 6. **Memory Usage:**\n",
        "   - **List:** Lists take more memory because they have to store extra information for mutability.\n",
        "   - **Tuple:** Tuples use less memory, which can be beneficial when working with large collections of data.\n",
        "\n",
        "### 7. **Immutability Benefits:**\n",
        "   - **Tuple:** Immutability makes tuples hashable, meaning they can be used as keys in dictionaries, while lists cannot.\n",
        "\n",
        "### Summary:\n",
        "- **Lists** are mutable and more flexible, while **tuples** are immutable, typically used for fixed data.\n",
        "- Lists are created with square brackets `[]`, and tuples with parentheses `()`.\n"
      ],
      "metadata": {
        "id": "ec95wAOPjO84"
      }
    },
    {
      "cell_type": "markdown",
      "source": [
        "**4.Describe how dictionaries store data.**"
      ],
      "metadata": {
        "id": "05mMsMeOjSk5"
      }
    },
    {
      "cell_type": "markdown",
      "source": [
        "Ans-->\n",
        "Dictionaries in Python are an unordered collection of key-value pairs. They store data using a data structure known as a **hash table**. Here's how dictionaries store data:\n",
        "\n",
        "### 1. **Key-Value Pairs:**\n",
        "   - A dictionary consists of **keys** and **values**. Each key is unique, and it is used to access its corresponding value. The general syntax is:\n",
        "     ```python\n",
        "     my_dict = {'key1': 'value1', 'key2': 'value2'}\n",
        "     ```\n",
        "   - **Keys** must be **immutable** (e.g., strings, numbers, tuples), while **values** can be of any data type (including mutable types like lists).\n",
        "\n",
        "### 2. **Hashing:**\n",
        "   - When you add a key-value pair to a dictionary, Python uses a **hash function** to compute a **hash value** for the key.\n",
        "     - The **hash value** is an integer that serves as an index in the internal data structure (the hash table) where the value is stored.\n",
        "     - A good hash function minimizes **collisions** (when two keys have the same hash value), ensuring that the dictionary operates efficiently.\n",
        "\n",
        "### 3. **Handling Collisions:**\n",
        "   - If two keys have the same hash value, a **collision** occurs. Python handles this by using techniques like **open addressing** or **chaining** to store both key-value pairs in the same location without overwriting each other.\n",
        "   \n",
        "### 4. **Storage Mechanism:**\n",
        "   - Internally, a dictionary uses an array-like structure where each position in the array can hold a **key-value pair**.\n",
        "   - When you look up a value by key, Python uses the key's hash value to directly access the appropriate position in the array, making lookups fast (on average **O(1)** time complexity).\n",
        "\n",
        "### 5. **Insertion and Deletion:**\n",
        "   - When adding a new key-value pair, Python computes the hash of the key and places the pair at the corresponding index.\n",
        "   - When deleting a key-value pair, Python locates the key using the hash, and removes it from the dictionary.\n",
        "\n",
        "### 6. **Order of Storage (Python 3.7+):**\n",
        "   - In Python 3.7 and later, dictionaries maintain the **insertion order** of keys. This means that when you iterate over a dictionary, the order of the keys will be the same as the order in which they were added. However, the primary purpose of a dictionary is fast lookups, not to maintain order.\n",
        "\n",
        "### Example:\n",
        "```python\n",
        "my_dict = {'apple': 5, 'banana': 3, 'cherry': 7}\n",
        "```\n",
        "- Here, `'apple'`, `'banana'`, and `'cherry'` are keys.\n",
        "- `5`, `3`, and `7` are the corresponding values.\n",
        "- Python computes the hash value for each key and stores them efficiently in the hash table, so when you access `my_dict['apple']`, Python can quickly retrieve the value `5`.\n",
        "\n",
        "### Key Characteristics of Dictionaries:\n",
        "- **Fast lookups**: O(1) on average, due to hashing.\n",
        "- **Unordered** (in earlier versions of Python): In versions prior to 3.7, dictionaries did not guarantee order.\n",
        "- **Flexible**: Keys are immutable, but values can be mutable.\n",
        "- **Unique keys**: Keys must be unique, but values can be duplicated.\n",
        "\n",
        "### Summary:\n",
        "Dictionaries store data by hashing keys into unique hash values, which are used to efficiently access and store key-value pairs in an underlying hash table. This provides fast lookups, additions, and deletions while maintaining the key-value relationship."
      ],
      "metadata": {
        "id": "vAaa4a9bjeLT"
      }
    },
    {
      "cell_type": "markdown",
      "source": [
        "**5.Why might you use a set instead of a list in Python**"
      ],
      "metadata": {
        "id": "8cC1ub4NjsP6"
      }
    },
    {
      "cell_type": "markdown",
      "source": [
        "Ans-->\n",
        "In Python, a **set** is a collection data type that is similar to a **list**, but with important differences. Here are several reasons why you might choose a **set** over a **list** in Python:\n",
        "\n",
        "### 1. **Uniqueness of Elements:**\n",
        "   - **Set:** A set automatically removes duplicate elements. If you need to store a collection of items and don't care about duplicates, a set is a great choice.\n",
        "     ```python\n",
        "     my_set = {1, 2, 3, 2, 1}  # Result: {1, 2, 3}\n",
        "     ```\n",
        "   - **List:** A list allows duplicate elements, so if you need to maintain all instances of an item, you would use a list.\n",
        "     ```python\n",
        "     my_list = [1, 2, 3, 2, 1]  # Result: [1, 2, 3, 2, 1]\n",
        "     ```\n",
        "\n",
        "### 2. **Efficient Membership Testing:**\n",
        "   - **Set:** Sets are implemented using hash tables, which means checking whether an element is in a set is very fast (O(1) on average).\n",
        "     ```python\n",
        "     my_set = {1, 2, 3}\n",
        "     2 in my_set  # Fast lookup: True\n",
        "     ```\n",
        "   - **List:** Membership tests in a list take O(n) time because it requires checking each element one by one.\n",
        "     ```python\n",
        "     my_list = [1, 2, 3]\n",
        "     2 in my_list  # Slower lookup: True\n",
        "     ```\n",
        "\n",
        "### 3. **Mathematical Set Operations:**\n",
        "   - **Set:** Sets support several mathematical operations, such as **union**, **intersection**, **difference**, and **symmetric difference**, which can be very useful when working with collections of data.\n",
        "     ```python\n",
        "     set1 = {1, 2, 3}\n",
        "     set2 = {3, 4, 5}\n",
        "     \n",
        "     union = set1 | set2  # {1, 2, 3, 4, 5}\n",
        "     intersection = set1 & set2  # {3}\n",
        "     difference = set1 - set2  # {1, 2}\n",
        "     symmetric_difference = set1 ^ set2  # {1, 2, 4, 5}\n",
        "     ```\n",
        "   - **List:** Lists don't support these operations directly, and you would need to use loops or list comprehensions to achieve similar results.\n",
        "\n",
        "### 4. **No Order Guarantee (When Order Doesn't Matter):**\n",
        "   - **Set:** Sets are **unordered**, meaning the elements have no specific order. If you don't care about the order of elements, using a set can be more efficient than a list, since it doesn't have the overhead of maintaining order.\n",
        "     ```python\n",
        "     my_set = {3, 1, 2}\n",
        "     # No guaranteed order: {1, 2, 3}\n",
        "     ```\n",
        "   - **List:** Lists maintain the order of elements, so if the order is important, a list is the better choice.\n",
        "\n",
        "### 5. **Removing Duplicates from a List:**\n",
        "   - **Set:** If you need to remove duplicates from a list, you can convert the list to a set, which will automatically discard duplicates. Then, you can convert it back to a list if necessary.\n",
        "     ```python\n",
        "     my_list = [1, 2, 2, 3, 3, 4]\n",
        "     my_list = list(set(my_list))  # [1, 2, 3, 4] (order may change)\n",
        "     ```\n",
        "   - **List:** If you want to remove duplicates from a list, it will require manual effort, often using loops or list comprehensions.\n",
        "\n",
        "### 6. **Faster Additions (on average):**\n",
        "   - **Set:** Adding an element to a set is O(1) on average because of the hashing mechanism, meaning the operation is typically fast.\n",
        "     ```python\n",
        "     my_set.add(4)  # O(1) on average\n",
        "     ```\n",
        "   - **List:** Adding an element to a list is generally O(1), but in some cases (such as when the list needs to resize), it could take longer.\n",
        "\n",
        "### 7. **Memory Efficiency:**\n",
        "   - **Set:** Since sets automatically enforce uniqueness and don't need to store duplicates, they may use memory more efficiently when there are many repeated elements.\n",
        "   - **List:** Lists store every element, even duplicates, so they might use more memory if you have many repeated items.\n",
        "\n",
        "### When to Use a Set vs. a List:\n",
        "- **Use a set** when:\n",
        "  - You need to store unique elements.\n",
        "  - Fast membership tests (checking if an item exists) are needed.\n",
        "  - You want to perform set operations (union, intersection, etc.).\n",
        "  - The order of elements does not matter.\n",
        "  \n",
        "- **Use a list** when:\n",
        "  - You need to maintain order.\n",
        "  - You want to allow duplicates.\n",
        "  - You need to store elements in a specific sequence or need indexing.\n",
        "  \n",
        "### Summary:\n",
        "Sets are ideal for situations where you want to enforce uniqueness, perform fast membership tests, or do mathematical set operations. Lists are better when order matters, or you need to store duplicate elements or perform operations that require maintaining sequence."
      ],
      "metadata": {
        "id": "LZFK6Uqmj4O5"
      }
    },
    {
      "cell_type": "markdown",
      "source": [
        "**6.What is a string in Python, and how is it different from a list**"
      ],
      "metadata": {
        "id": "m04DfwQHkCzS"
      }
    },
    {
      "cell_type": "markdown",
      "source": [
        "Ans-->\n",
        "In Python, both strings and lists are data types used to store collections of elements, but they have key differences.\n",
        "\n",
        "### **String in Python:**\n",
        "- A string is a sequence of characters enclosed in single quotes (`' '`) or double quotes (`\" \"`).\n",
        "- Strings are **immutable**, meaning once they are created, their content cannot be changed (e.g., you can't modify a character in a string directly).\n",
        "  \n",
        "**Example of a string:**\n",
        "```python\n",
        "my_string = \"Hello, World!\"\n",
        "```\n",
        "\n",
        "### **List in Python:**\n",
        "- A list is an ordered collection of elements, which can be of any data type (including strings, numbers, other lists, etc.).\n",
        "- Lists are **mutable**, meaning you can change their contents after creation (add, remove, or modify elements).\n",
        "  \n",
        "**Example of a list:**\n",
        "```python\n",
        "my_list = [1, 2, 3, \"hello\", True]\n",
        "```\n",
        "\n",
        "### **Key Differences:**\n",
        "1. **Mutability:**\n",
        "   - **String**: Immutable (cannot be changed after creation).\n",
        "   - **List**: Mutable (can be changed by adding, removing, or modifying elements).\n",
        "   \n",
        "2. **Content:**\n",
        "   - **String**: Only stores characters.\n",
        "   - **List**: Can store elements of any data type (strings, numbers, other lists, etc.).\n",
        "\n",
        "3. **Operations:**\n",
        "   - **String**: Supports string-specific operations like concatenation, slicing, and formatting.\n",
        "   - **List**: Supports list-specific operations like appending, inserting, and removing items.\n",
        "\n",
        "### Example of difference:\n",
        "```python\n",
        "# String example\n",
        "my_string = \"Python\"\n",
        "# Cannot modify a string directly\n",
        "# my_string[0] = \"J\"  # This will raise an error\n",
        "\n",
        "# List example\n",
        "my_list = [1, 2, 3]\n",
        "my_list[0] = 99  # This will change the first element to 99\n",
        "print(my_list)  # Output: [99, 2, 3]\n",
        "```\n",
        "\n",
        "In summary:\n",
        "- Strings are immutable sequences of characters, while lists are mutable sequences that can hold different types of elements.\n"
      ],
      "metadata": {
        "id": "1SPBSdZQkM4Y"
      }
    },
    {
      "cell_type": "markdown",
      "source": [
        "**7.How do tuples ensure data integrity in Python?**"
      ],
      "metadata": {
        "id": "oRINOZ_1kVoj"
      }
    },
    {
      "cell_type": "markdown",
      "source": [
        "Ans-->\n",
        "In Python 4, as with previous versions, tuples help ensure data integrity through their immutability. Here’s how:\n",
        "\n",
        "1. **Immutability**: Once a tuple is created, its contents cannot be modified. This means that no element of a tuple can be changed, added, or removed after creation. If you want to modify the data, you must create a new tuple.\n",
        "\n",
        "   ```python\n",
        "   my_tuple = (1, 2, 3)\n",
        "   # my_tuple[0] = 4  # This would raise an error\n",
        "   ```\n",
        "\n",
        "2. **Prevention of Unintended Modifications**: Since tuples cannot be altered, they are a reliable choice for data that should not be changed. This is particularly useful when working with constants, configuration data, or as a way to prevent accidental modification of critical values.\n",
        "\n",
        "3. **Hashable**: Tuples are hashable (as long as all their elements are also hashable), which makes them usable as dictionary keys. This ensures that they can be stored in sets or used as keys in dictionaries, guaranteeing that the data remains constant and reliable.\n",
        "\n",
        "4. **Predictability and Integrity**: By using tuples for data that needs to remain consistent, you are assured that the data will not be modified throughout the program. This helps avoid bugs or unintended side effects that might arise from mutable data structures.\n",
        "\n",
        "Overall, tuples provide a simple and efficient way to maintain the integrity of data throughout the execution of a program, especially when combined with other immutable or constant patterns."
      ],
      "metadata": {
        "id": "r-T03bY3kkGT"
      }
    },
    {
      "cell_type": "markdown",
      "source": [
        "**8.What is a hash table, and how does it relate to dictionaries in Python?**"
      ],
      "metadata": {
        "id": "-IYRy9ZfkqP6"
      }
    },
    {
      "cell_type": "markdown",
      "source": [
        "Ans-->\n",
        "A hash table is a data structure that stores key-value pairs and allows for efficient lookups, insertions, and deletions. It works by applying a hash function to a key, which generates an index (or hash code) in an array where the corresponding value is stored. The hash table uses this index to directly access the value associated with the key, making operations like searching for a value much faster than with other data structures (like lists or arrays).\n",
        "\n",
        "In Python, the built-in `dict` type is implemented using a hash table. A Python dictionary (`dict`) is essentially a collection of key-value pairs, and Python automatically handles the hashing of keys to store and retrieve values efficiently.\n",
        "\n",
        "### How it works:\n",
        "1. **Hash Function**: When a key is added to a dictionary, Python computes a hash value for the key using a hash function.\n",
        "2. **Array Indexing**: This hash value is then used to determine the index in an internal array where the value is stored.\n",
        "3. **Collision Handling**: If two different keys happen to hash to the same index (a collision), Python resolves this by storing both keys in the same array slot, typically using techniques like chaining or open addressing.\n",
        "\n",
        "### Key Points:\n",
        "- **Efficiency**: Lookup, insertion, and deletion operations are generally O(1) on average, making hash tables (and therefore dictionaries in Python) very efficient for many tasks.\n",
        "- **Unordered**: Unlike lists or arrays, dictionaries do not guarantee any order for their keys (though Python 3.7+ maintains insertion order, which means items are retrieved in the order they were added).\n",
        "\n",
        "### Example in Python:\n",
        "```python\n",
        "my_dict = {\"apple\": 1, \"banana\": 2, \"cherry\": 3}\n",
        "print(my_dict[\"apple\"])  # Output: 1\n",
        "```\n",
        "\n",
        "In this example, the dictionary `my_dict` uses a hash table to store the string keys (\"apple\", \"banana\", etc.) and their corresponding integer values (1, 2, 3). When you look up `\"apple\"`, Python uses its hash table to quickly retrieve the value `1`.\n",
        "\n",
        "Thus, Python dictionaries are hash tables that offer a highly efficient way to store and manage key-value pairs."
      ],
      "metadata": {
        "id": "v2gJO9DIkxtS"
      }
    },
    {
      "cell_type": "markdown",
      "source": [
        "**9.Can lists contain different data types in Python?**"
      ],
      "metadata": {
        "id": "Xb3XeMmnk1sy"
      }
    },
    {
      "cell_type": "markdown",
      "source": [
        "Ans-->\n",
        "Yes, in Python (including Python 4 when it is released), lists can contain elements of different data types. For example, you can have a list that contains integers, strings, floats, and even other lists or objects. Here's an example:\n",
        "\n",
        "```python\n",
        "my_list = [42, \"hello\", 3.14, True, [1, 2, 3]]\n",
        "```\n",
        "\n",
        "In this case:\n",
        "- `42` is an integer,\n",
        "- `\"hello\"` is a string,\n",
        "- `3.14` is a float,\n",
        "- `True` is a boolean,\n",
        "- `[1, 2, 3]` is a nested list.\n",
        "\n",
        "Python lists are versatile and allow elements of any type to be stored together."
      ],
      "metadata": {
        "id": "f9hp2f4Vk9l6"
      }
    },
    {
      "cell_type": "markdown",
      "source": [
        "**10.Explain why strings are immutable in Python.**"
      ],
      "metadata": {
        "id": "nKRyLgtBlBYu"
      }
    },
    {
      "cell_type": "markdown",
      "source": [
        "Ans-->\n",
        "Strings are immutable in Python primarily for performance and safety reasons. Here's a breakdown of why Python strings are immutable:\n",
        "\n",
        "### 1. **Efficiency in Memory Management**:\n",
        "   - Python uses a technique called *interning* for strings, where identical string values are stored in a single memory location. This reduces memory consumption and speeds up comparison operations, as Python can compare memory addresses rather than actual string content.\n",
        "   - If strings were mutable, modifying one string could unintentionally affect other parts of the program that are referencing the same string, which would negate the benefits of interning and lead to inefficiencies.\n",
        "\n",
        "### 2. **Safety and Predictability**:\n",
        "   - Since strings are immutable, you can be sure that the value of a string won't change unexpectedly during execution. This avoids bugs where one part of the program alters a string, potentially breaking the behavior of other parts of the program that rely on the original string.\n",
        "   - Immutability ensures that the string is a reliable constant throughout its existence, making debugging and reasoning about the code easier.\n",
        "\n",
        "### 3. **Hashing**:\n",
        "   - Strings are commonly used as keys in dictionaries and sets, which require their hash values to remain constant during their lifetime. If strings were mutable, their hash values could change if their contents were modified, making it impossible to use them reliably in hash-based collections.\n",
        "   \n",
        "### 4. **Optimization**:\n",
        "   - Immutability allows Python to perform optimizations, such as caching and reusing string objects. For example, when you create a string like `\"hello\"`, Python can reuse the same memory space for that string in different parts of the code, avoiding the need to duplicate the same string in memory.\n",
        "\n",
        "In summary, strings are immutable in Python to improve memory efficiency, provide safety and predictability, support hash-based collections, and enable certain optimizations."
      ],
      "metadata": {
        "id": "kgw-pCUylIki"
      }
    },
    {
      "cell_type": "markdown",
      "source": [
        "**11.What advantages do dictionaries offer over lists for certain tasks.**"
      ],
      "metadata": {
        "id": "Wdavv9lElMDD"
      }
    },
    {
      "cell_type": "markdown",
      "source": [
        "Ans-->\n",
        "Dictionaries offer several advantages over lists for certain tasks, particularly when you need to associate keys with values or perform efficient lookups. Here are some specific advantages:\n",
        "\n",
        "1. **Efficient Lookups**:\n",
        "   - **Dictionaries** allow you to quickly access values using keys (average time complexity of O(1) for lookups), making them ideal for tasks like searching or retrieving data associated with a specific key.\n",
        "   - **Lists**, on the other hand, require O(n) time complexity for searching by value, since you typically need to iterate through the entire list.\n",
        "\n",
        "2. **Key-Value Pairing**:\n",
        "   - Dictionaries store data in key-value pairs, which is useful when you need to map one piece of data to another (e.g., mapping a user's ID to their name or storing the count of occurrences of different items).\n",
        "   - Lists don't inherently support this kind of association, so you would need to use indices or nested structures to represent key-value relationships, which is less straightforward.\n",
        "\n",
        "3. **Uniqueness of Keys**:\n",
        "   - In a **dictionary**, each key is unique, ensuring that you can store only one value per key. This guarantees no duplicates for keys, which can help prevent data inconsistency.\n",
        "   - In a **list**, all elements are just values, and there’s no built-in mechanism to enforce uniqueness or keep track of individual items easily.\n",
        "\n",
        "4. **Flexible Data Structures**:\n",
        "   - **Dictionaries** can store various types of values (e.g., integers, strings, lists, other dictionaries), and the keys can be of any immutable type, like strings, numbers, or tuples.\n",
        "   - **Lists** are primarily for ordered collections of values and are less flexible for storing heterogeneous types with meaningful relationships.\n",
        "\n",
        "5. **Direct Access to Values**:\n",
        "   - In a **dictionary**, accessing a specific item by its key is direct and doesn’t depend on the position or order of items, which can make data retrieval faster and simpler.\n",
        "   - In a **list**, to retrieve an item, you either need to know the index or iterate over the list to find it.\n",
        "\n",
        "In summary, dictionaries are preferable when you need fast lookups, key-value associations, and uniqueness of keys, while lists are better suited for ordered collections of items when index-based access is more important."
      ],
      "metadata": {
        "id": "bdgN5z84lXpi"
      }
    },
    {
      "cell_type": "markdown",
      "source": [
        "**12.Describe a scenario where using a tuple would be preferable over a list.**"
      ],
      "metadata": {
        "id": "zknvH1e-lbaK"
      }
    },
    {
      "cell_type": "markdown",
      "source": [
        "Ans-->\n",
        "A scenario where using a tuple would be preferable over a list is when you need to store a set of fixed values that should not change throughout the program, such as coordinates in a 2D space.\n",
        "\n",
        "For example, if you're developing a map application and need to store the geographical coordinates of a location (latitude, longitude), you could use a tuple because the coordinates will not change once set:\n",
        "\n",
        "```python\n",
        "location = (37.7749, -122.4194)  # San Francisco coordinates\n",
        "```\n",
        "\n",
        "In this case, a tuple is ideal because:\n",
        "\n",
        "1. **Immutability**: The coordinates are not intended to change, so using a tuple ensures that no accidental modifications occur.\n",
        "2. **Performance**: Tuples are more memory-efficient and faster for iteration since they are immutable.\n",
        "3. **Semantic clarity**: Using a tuple communicates that the values (latitude and longitude) are a fixed, unchangeable pair, whereas a list might suggest that the values could change or grow.\n",
        "\n",
        "In contrast, if you needed a collection of items that could change or grow over time, a list would be more appropriate."
      ],
      "metadata": {
        "id": "8phIrNRLlvVh"
      }
    },
    {
      "cell_type": "markdown",
      "source": [
        "**13.How do sets handle duplicate values in Python.**"
      ],
      "metadata": {
        "id": "koMQYyZOlzjh"
      }
    },
    {
      "cell_type": "markdown",
      "source": [
        "Ans-->\n",
        "In Python, sets automatically handle duplicates by ensuring that each element in a set is unique. When you add a duplicate element to a set, it is ignored, and the set remains unchanged.\n",
        "\n",
        "For example:\n",
        "\n",
        "```python\n",
        "my_set = {1, 2, 3}\n",
        "my_set.add(2)  # Adding a duplicate element\n",
        "print(my_set)  # Output: {1, 2, 3}\n",
        "```\n",
        "\n",
        "In this case, even though you attempted to add the element `2` again, the set does not allow duplicates, so the set remains `{1, 2, 3}`.\n",
        "\n",
        "Thus, a set will never contain any duplicate values."
      ],
      "metadata": {
        "id": "1m9LgtGxl7e5"
      }
    },
    {
      "cell_type": "markdown",
      "source": [
        "**14.How does the “in” keyword work differently for lists and dictionaries.**"
      ],
      "metadata": {
        "id": "5QTG98e8mJp6"
      }
    },
    {
      "cell_type": "markdown",
      "source": [
        "Ans-->\n",
        "The `in` keyword in Python is used to check for membership, but its behavior differs slightly when used with lists and dictionaries:\n",
        "\n",
        "1. **For Lists:**\n",
        "   The `in` keyword checks whether a specific value is present in the list. It returns `True` if the value exists in the list and `False` otherwise.\n",
        "\n",
        "   **Example:**\n",
        "   ```python\n",
        "   my_list = [1, 2, 3, 4, 5]\n",
        "   print(3 in my_list)  # Output: True\n",
        "   print(6 in my_list)  # Output: False\n",
        "   ```\n",
        "\n",
        "   - When used with a list, `in` checks if the value itself is present as an element of the list.\n",
        "\n",
        "2. **For Dictionaries:**\n",
        "   When used with a dictionary, the `in` keyword checks for the presence of keys, not values. It returns `True` if the key exists in the dictionary and `False` otherwise.\n",
        "\n",
        "   **Example:**\n",
        "   ```python\n",
        "   my_dict = {'a': 1, 'b': 2, 'c': 3}\n",
        "   print('a' in my_dict)  # Output: True (checks for key)\n",
        "   print(1 in my_dict)    # Output: False (checks for key, not value)\n",
        "   ```\n",
        "\n",
        "   - The `in` keyword does not check for the existence of values directly in a dictionary. To check if a value exists in a dictionary, you would need to use `values()` or `items()`:\n",
        "\n",
        "   ```python\n",
        "   print(1 in my_dict.values())  # Output: True\n",
        "   print(('a', 1) in my_dict.items())  # Output: True\n",
        "   ```\n",
        "\n",
        "### Summary:\n",
        "- **For lists**: `in` checks if the element is present.\n",
        "- **For dictionaries**: `in` checks if the key is present."
      ],
      "metadata": {
        "id": "1b_oBhhLmWUq"
      }
    },
    {
      "cell_type": "markdown",
      "source": [
        "**15.Can you modify the elements of a tuple? Explain why or why not.**"
      ],
      "metadata": {
        "id": "m93tOneEmagB"
      }
    },
    {
      "cell_type": "markdown",
      "source": [
        "Ans-->\n",
        "No, you cannot modify the elements of a tuple in Python.\n",
        "\n",
        "The reason is that tuples are **immutable**. This means once a tuple is created, its contents cannot be changed, added to, or removed. If you try to modify an element of a tuple, you will get an error.\n",
        "\n",
        "For example:\n",
        "\n",
        "```python\n",
        "my_tuple = (1, 2, 3)\n",
        "my_tuple[0] = 10  # This will raise a TypeError\n",
        "```\n",
        "\n",
        "However, if the elements inside the tuple are mutable objects, like lists, you can modify those objects, but not the tuple itself. For example:\n",
        "\n",
        "```python\n",
        "my_tuple = ([1, 2], 3)\n",
        "my_tuple[0][0] = 10  # This is allowed because the list inside the tuple is mutable\n",
        "print(my_tuple)  # Output: ([10, 2], 3)\n",
        "```\n",
        "\n",
        "In this case, the tuple structure doesn't change, but the mutable element (the list) inside the tuple can be modified."
      ],
      "metadata": {
        "id": "Z8wIhq5smjHB"
      }
    },
    {
      "cell_type": "markdown",
      "source": [
        "**16.What is a nested dictionary, and give an example of its use case?**"
      ],
      "metadata": {
        "id": "Sa-Hp1iOmoDJ"
      }
    },
    {
      "cell_type": "markdown",
      "source": [
        "Ans-->\n",
        "A **nested dictionary** is a dictionary in Python that contains other dictionaries as values. This allows you to represent more complex data structures where each key in the outer dictionary can map to another dictionary, which may also have key-value pairs. It essentially provides a way to store hierarchical data.\n",
        "\n",
        "### Example:\n",
        "\n",
        "Consider a case where you are storing information about multiple students in a school. Each student can have multiple attributes, such as their name, age, and grades in different subjects. You could use a nested dictionary to represent this data.\n",
        "\n",
        "```python\n",
        "students = {\n",
        "    \"student_1\": {\n",
        "        \"name\": \"Alice\",\n",
        "        \"age\": 14,\n",
        "        \"grades\": {\n",
        "            \"math\": 90,\n",
        "            \"science\": 88,\n",
        "            \"english\": 92\n",
        "        }\n",
        "    },\n",
        "    \"student_2\": {\n",
        "        \"name\": \"Bob\",\n",
        "        \"age\": 15,\n",
        "        \"grades\": {\n",
        "            \"math\": 85,\n",
        "            \"science\": 91,\n",
        "            \"english\": 89\n",
        "        }\n",
        "    }\n",
        "}\n",
        "```\n",
        "\n",
        "### Use case:\n",
        "\n",
        "In this example, we have an outer dictionary (`students`) where each key represents a student ID (e.g., \"student_1\", \"student_2\"). The value for each student ID is another dictionary containing the student's personal details (name, age) and a nested dictionary for their grades in various subjects.\n",
        "\n",
        "You can access data like this:\n",
        "\n",
        "```python\n",
        "# Get Alice's math grade\n",
        "alice_math_grade = students[\"student_1\"][\"grades\"][\"math\"]\n",
        "print(alice_math_grade)  # Output: 90\n",
        "\n",
        "# Get Bob's age\n",
        "bob_age = students[\"student_2\"][\"age\"]\n",
        "print(bob_age)  # Output: 15\n",
        "```\n",
        "\n",
        "This structure is useful when you need to model data that has multiple levels of detail, such as storing information about users, products, or any other entities with hierarchical attributes."
      ],
      "metadata": {
        "id": "hayWS027mu2B"
      }
    },
    {
      "cell_type": "markdown",
      "source": [
        "**17.Describe the time complexity of accessing elements in a dictionary.**"
      ],
      "metadata": {
        "id": "5nUaXeGrmyuJ"
      }
    },
    {
      "cell_type": "markdown",
      "source": [
        "Ans-->\n",
        "In Python, accessing elements in a dictionary has an **average time complexity of O(1)**, also known as constant time. This is because dictionaries are implemented using hash tables, and when you access an element by its key, the hash function is applied to the key to determine the index in the underlying table, which takes constant time on average.\n",
        "\n",
        "However, in the worst case (due to hash collisions or other issues), the time complexity can degrade to **O(n)**, where `n` is the number of elements in the dictionary. This worst-case scenario is rare and typically occurs when there are many hash collisions, causing the dictionary to resort to more complex handling methods like linked lists or other collision resolution techniques. But for most practical use cases, dictionary access remains O(1)."
      ],
      "metadata": {
        "id": "NOdsY6WFm9Nh"
      }
    },
    {
      "cell_type": "markdown",
      "source": [
        "**18. In what situations are lists preferred over dictionaries.**"
      ],
      "metadata": {
        "id": "CMxMDWurnClZ"
      }
    },
    {
      "cell_type": "markdown",
      "source": [
        "Ans-->\n",
        "Lists are preferred over dictionaries in situations where:\n",
        "\n",
        "1. **Ordered Collection**: You need to maintain the order of elements, as lists preserve the order in which items are added. Dictionaries do not guarantee order in versions prior to Python 3.7, though they maintain insertion order starting from Python 3.7.\n",
        "\n",
        "2. **Indexed Access**: You need to access elements via their index (i.e., by position) rather than by a key. Lists are indexed by integers, while dictionaries are indexed by keys.\n",
        "\n",
        "3. **Simple Data Storage**: If you're storing homogeneous data (elements of the same type) without needing to associate specific keys, a list is more straightforward. For example, a list of numbers or strings.\n",
        "\n",
        "4. **Efficient Iteration**: Lists can be more efficient when you are iterating over the elements and don't need to access them by key. This is because lists allow fast sequential access by index.\n",
        "\n",
        "5. **Small Collections**: If the collection is small, and performance is not a concern, lists are often easier to use because they are simpler in structure compared to dictionaries.\n",
        "\n",
        "6. **Simple Operations**: For operations like sorting, filtering, or appending data, lists are generally more convenient and efficient compared to dictionaries, where you may need to consider keys and values.\n",
        "\n",
        "**Examples**:\n",
        "- A list would be ideal for storing a sequence of user names: `[\"Alice\", \"Bob\", \"Charlie\"]`.\n",
        "- A dictionary is better suited for storing a mapping between items and their associated values: `{\"Alice\": 25, \"Bob\": 30}`.\n",
        "\n",
        "In general, use lists when you need to maintain a simple ordered collection of items and dictionaries when you need key-value pairs or fast lookups by keys."
      ],
      "metadata": {
        "id": "Ddq4iRN5ndHx"
      }
    },
    {
      "cell_type": "markdown",
      "source": [
        "**19. Why are dictionaries considered unordered, and how does that affect data retrieval.**"
      ],
      "metadata": {
        "id": "M4CkVpe-nn2R"
      }
    },
    {
      "cell_type": "markdown",
      "source": [
        "Ans-->\n",
        "Dictionaries in Python (and similar data structures in other languages) are considered unordered because the data is stored in a way that does not guarantee any specific order of the key-value pairs. This is mainly due to how dictionaries are implemented using hash tables.\n",
        "\n",
        "### Why are dictionaries unordered?\n",
        "1. **Hashing**: The key-value pairs in a dictionary are stored using a hashing mechanism. When you insert a key-value pair, Python computes a hash of the key, and the pair is placed into a corresponding \"bucket\" based on this hash value. The order in which the keys are inserted does not influence the hash values or the final memory location of each pair, making the order of the items unpredictable.\n",
        "\n",
        "2. **Optimization for Fast Lookups**: Hashing allows for fast lookups by using the key’s hash value to directly access the associated value. However, this approach prioritizes efficiency in retrieval over the order of items, which is why the dictionary is not ordered by default.\n",
        "\n",
        "### Effect on data retrieval:\n",
        "1. **Fast Access**: Despite being unordered, dictionaries allow fast access to values based on the keys. This is typically **O(1)** time complexity for lookups, insertions, and deletions because of the hash table structure.\n",
        "\n",
        "2. **Uncertainty in Order**: Since dictionaries do not guarantee any particular order, retrieving the items (like when you iterate over the dictionary) will not always return the key-value pairs in the order they were inserted.\n",
        "\n",
        "### Python 3.7+ behavior:\n",
        "Starting from Python 3.7, dictionaries **preserve insertion order** as an implementation detail. However, it is important to note that while the order is maintained during iteration, dictionaries are still fundamentally unordered structures, meaning that the order should not be relied upon for program logic.\n",
        "\n",
        "In summary, dictionaries are unordered because they rely on hashing to achieve fast lookups, and their design prioritizes efficient data access over preserving order."
      ],
      "metadata": {
        "id": "MPOAAnrTnuMZ"
      }
    },
    {
      "cell_type": "markdown",
      "source": [
        "**20.Explain the difference between a list and a dictionary in terms of data retrieval**"
      ],
      "metadata": {
        "id": "n23Lm7xNnxao"
      }
    },
    {
      "cell_type": "markdown",
      "source": [
        "Ans-->\n",
        "In Python, the primary difference between a **list** and a **dictionary** in terms of data retrieval lies in how data is accessed and the structure they use for storing data:\n",
        "\n",
        "1. **List**:\n",
        "   - A list is an ordered collection of items, indexed by their position (integer index).\n",
        "   - Data is retrieved using an **index**, which refers to the position of an item in the list (starting from index 0).\n",
        "   - Example:\n",
        "     ```python\n",
        "     my_list = ['apple', 'banana', 'cherry']\n",
        "     print(my_list[1])  # Output: 'banana'\n",
        "     ```\n",
        "   - **Retrieval** is based on the index number, and it is sequential (you access elements in the order they appear in the list).\n",
        "\n",
        "2. **Dictionary**:\n",
        "   - A dictionary is an unordered collection of key-value pairs.\n",
        "   - Data is retrieved using a **key**, which is a unique identifier for the value stored in the dictionary.\n",
        "   - Example:\n",
        "     ```python\n",
        "     my_dict = {'name': 'Alice', 'age': 25, 'city': 'New York'}\n",
        "     print(my_dict['age'])  # Output: 25\n",
        "     ```\n",
        "   - **Retrieval** is based on the **key** rather than the order, and dictionaries provide efficient lookups for values associated with specific keys.\n",
        "\n",
        "### Key Differences in Data Retrieval:\n",
        "- **List**: Retrieval is by **index** (position-based).\n",
        "- **Dictionary**: Retrieval is by **key** (identifier-based), which can be any immutable type (e.g., string, number)."
      ],
      "metadata": {
        "id": "tLVDhcwdn7bw"
      }
    },
    {
      "cell_type": "markdown",
      "source": [
        "# Practical"
      ],
      "metadata": {
        "id": "cnOAPUPAn_Tw"
      }
    },
    {
      "cell_type": "markdown",
      "source": [
        "**1.Write a code to create a string with your name and print it**"
      ],
      "metadata": {
        "id": "t7vXF67JoE4Z"
      }
    },
    {
      "cell_type": "markdown",
      "source": [
        "Ans-->\n"
      ],
      "metadata": {
        "id": "Oqy68HKxoXKQ"
      }
    },
    {
      "cell_type": "code",
      "source": [
        "# Create a string with the name \"Bhanu Pundir\"\n",
        "name = \"Bhanu Pundir\"\n",
        "\n",
        "# Print the string\n",
        "print(name)\n"
      ],
      "metadata": {
        "colab": {
          "base_uri": "https://localhost:8080/"
        },
        "id": "o-ncJO7iokyS",
        "outputId": "e2aa6197-e7be-49d1-aa0e-7efe1e7bf5fa"
      },
      "execution_count": 2,
      "outputs": [
        {
          "output_type": "stream",
          "name": "stdout",
          "text": [
            "Bhanu Pundir\n"
          ]
        }
      ]
    },
    {
      "cell_type": "markdown",
      "source": [
        "**2.Write a code to find the length of the string \"Hello World\"**"
      ],
      "metadata": {
        "id": "EEz_4ZW2otgg"
      }
    },
    {
      "cell_type": "markdown",
      "source": [
        "Ans-->\n"
      ],
      "metadata": {
        "id": "BFZjb4dKoxXi"
      }
    },
    {
      "cell_type": "code",
      "source": [
        "# Define the string\n",
        "string = \"Hello World\"\n",
        "\n",
        "# Find the length of the string\n",
        "length = len(string)\n",
        "\n",
        "# Output the result\n",
        "print(\"The length of the string is:\", length)\n"
      ],
      "metadata": {
        "colab": {
          "base_uri": "https://localhost:8080/"
        },
        "id": "N_BUpMBFozpB",
        "outputId": "0835d35f-2289-4cd1-a88d-262668855996"
      },
      "execution_count": 3,
      "outputs": [
        {
          "output_type": "stream",
          "name": "stdout",
          "text": [
            "The length of the string is: 11\n"
          ]
        }
      ]
    },
    {
      "cell_type": "markdown",
      "source": [
        "**3.Write a code to slice the first 3 characters from the string \"Python Programming\"**"
      ],
      "metadata": {
        "id": "obcgd6s0o685"
      }
    },
    {
      "cell_type": "markdown",
      "source": [
        "Ans-->\n"
      ],
      "metadata": {
        "id": "5f9obHRgpIbY"
      }
    },
    {
      "cell_type": "code",
      "source": [
        "string = \"Python Programming\"\n",
        "sliced_string = string[:3]\n",
        "print(sliced_string)\n"
      ],
      "metadata": {
        "colab": {
          "base_uri": "https://localhost:8080/"
        },
        "id": "CzTLRuH_pUKx",
        "outputId": "bbf0c5d0-d602-4d59-e10c-27dd09c2cd72"
      },
      "execution_count": 4,
      "outputs": [
        {
          "output_type": "stream",
          "name": "stdout",
          "text": [
            "Pyt\n"
          ]
        }
      ]
    },
    {
      "cell_type": "markdown",
      "source": [
        "**4.Write a code to convert the string \"hello\" to uppercase**"
      ],
      "metadata": {
        "id": "rJt7p7Bhpe7R"
      }
    },
    {
      "cell_type": "markdown",
      "source": [
        "Ans-->\n"
      ],
      "metadata": {
        "id": "yF09m28Vplpw"
      }
    },
    {
      "cell_type": "code",
      "source": [
        "# Define the string\n",
        "text = \"hello\"\n",
        "\n",
        "# Convert the string to uppercase\n",
        "uppercase_text = text.upper()\n",
        "\n",
        "# Print the result\n",
        "print(uppercase_text)\n"
      ],
      "metadata": {
        "colab": {
          "base_uri": "https://localhost:8080/"
        },
        "id": "L1iSO9mOpnIh",
        "outputId": "a1dd83e0-3e96-4acb-e5e2-c55aee2410f3"
      },
      "execution_count": 5,
      "outputs": [
        {
          "output_type": "stream",
          "name": "stdout",
          "text": [
            "HELLO\n"
          ]
        }
      ]
    },
    {
      "cell_type": "markdown",
      "source": [
        "**5.Write a code to replace the word \"apple\" with \"orange\" in the string \"I like apple\"**"
      ],
      "metadata": {
        "id": "uevK720wpp9h"
      }
    },
    {
      "cell_type": "markdown",
      "source": [
        "Ans-->\n"
      ],
      "metadata": {
        "id": "-RW6w931pxs6"
      }
    },
    {
      "cell_type": "code",
      "source": [
        "# Original string\n",
        "text = \"I like apple\"\n",
        "\n",
        "# Replacing \"apple\" with \"orange\"\n",
        "modified_text = text.replace(\"apple\", \"orange\")\n",
        "\n",
        "# Printing the modified string\n",
        "print(modified_text)\n"
      ],
      "metadata": {
        "colab": {
          "base_uri": "https://localhost:8080/"
        },
        "id": "478sH0TfpzHp",
        "outputId": "5c53e11e-45d1-4776-8e57-e95296778da9"
      },
      "execution_count": 6,
      "outputs": [
        {
          "output_type": "stream",
          "name": "stdout",
          "text": [
            "I like orange\n"
          ]
        }
      ]
    },
    {
      "cell_type": "markdown",
      "source": [
        "**6.Write a code to create a list with numbers 1 to 5 and print it**"
      ],
      "metadata": {
        "id": "NGlGgYzep2Lx"
      }
    },
    {
      "cell_type": "markdown",
      "source": [
        "Ans-->\n"
      ],
      "metadata": {
        "id": "0NvlP6eXp8hR"
      }
    },
    {
      "cell_type": "code",
      "source": [
        "# Create a list with numbers from 1 to 5\n",
        "numbers = [1, 2, 3, 4, 5]\n",
        "\n",
        "# Print the list\n",
        "print(numbers)\n"
      ],
      "metadata": {
        "colab": {
          "base_uri": "https://localhost:8080/"
        },
        "id": "uMVYzIjyp_Fh",
        "outputId": "ba6859f2-d14a-412a-f84d-2afd2c70fac7"
      },
      "execution_count": 7,
      "outputs": [
        {
          "output_type": "stream",
          "name": "stdout",
          "text": [
            "[1, 2, 3, 4, 5]\n"
          ]
        }
      ]
    },
    {
      "cell_type": "markdown",
      "source": [
        "**7.Write a code to append the number 10 to the list [1, 2, 3, 4]**"
      ],
      "metadata": {
        "id": "p15k1KWFqEhB"
      }
    },
    {
      "cell_type": "markdown",
      "source": [
        "Ans-->\n"
      ],
      "metadata": {
        "id": "F7kE0SpGqLNx"
      }
    },
    {
      "cell_type": "code",
      "source": [
        "my_list = [1, 2, 3, 4]\n",
        "my_list.append(10)\n",
        "print(my_list)\n"
      ],
      "metadata": {
        "colab": {
          "base_uri": "https://localhost:8080/"
        },
        "id": "DeXq1dbjqM_C",
        "outputId": "443e316e-689f-449e-cd7b-a8c3f938a3f3"
      },
      "execution_count": 8,
      "outputs": [
        {
          "output_type": "stream",
          "name": "stdout",
          "text": [
            "[1, 2, 3, 4, 10]\n"
          ]
        }
      ]
    },
    {
      "cell_type": "markdown",
      "source": [
        "**8.Write a code to remove the number 3 from the list [1, 2, 3, 4, 5]**"
      ],
      "metadata": {
        "id": "CfcVVDwIqQD6"
      }
    },
    {
      "cell_type": "markdown",
      "source": [
        "Ans-->\n"
      ],
      "metadata": {
        "id": "YP2OHKgEqYdR"
      }
    },
    {
      "cell_type": "code",
      "source": [
        "# Define the list\n",
        "my_list = [1, 2, 3, 4, 5]\n",
        "\n",
        "# Remove the number 3 from the list\n",
        "my_list.remove(3)\n",
        "\n",
        "# Print the updated list\n",
        "print(my_list)\n"
      ],
      "metadata": {
        "colab": {
          "base_uri": "https://localhost:8080/"
        },
        "id": "QDZ4W4Quqajh",
        "outputId": "68b41894-ae4c-4da1-bba3-14057f11b6e6"
      },
      "execution_count": 9,
      "outputs": [
        {
          "output_type": "stream",
          "name": "stdout",
          "text": [
            "[1, 2, 4, 5]\n"
          ]
        }
      ]
    },
    {
      "cell_type": "markdown",
      "source": [
        "**9.Write a code to access the second element in the list ['a', 'b', 'c', 'd']**"
      ],
      "metadata": {
        "id": "uU_KBHCGqc2I"
      }
    },
    {
      "cell_type": "markdown",
      "source": [
        "Ans-->\n"
      ],
      "metadata": {
        "id": "0CNWFMPWqiYZ"
      }
    },
    {
      "cell_type": "code",
      "source": [
        "my_list = ['a', 'b', 'c', 'd']\n",
        "second_element = my_list[1]\n",
        "print(second_element)\n"
      ],
      "metadata": {
        "colab": {
          "base_uri": "https://localhost:8080/"
        },
        "id": "om39rGK8qkps",
        "outputId": "1513cfe3-7a49-4d1f-fb59-e741ac9829ec"
      },
      "execution_count": 10,
      "outputs": [
        {
          "output_type": "stream",
          "name": "stdout",
          "text": [
            "b\n"
          ]
        }
      ]
    },
    {
      "cell_type": "markdown",
      "source": [
        "**10.Write a code to reverse the list [10, 20, 30, 40, 50]**"
      ],
      "metadata": {
        "id": "RCTdaRb-qz8x"
      }
    },
    {
      "cell_type": "markdown",
      "source": [
        "Ans-->\n"
      ],
      "metadata": {
        "id": "s2fI29Qcq380"
      }
    },
    {
      "cell_type": "code",
      "source": [
        "my_list = [10, 20, 30, 40, 50]\n",
        "my_list.reverse()\n",
        "print(my_list)\n"
      ],
      "metadata": {
        "colab": {
          "base_uri": "https://localhost:8080/"
        },
        "id": "Br7tAaiNq_4c",
        "outputId": "6ad25b15-7ac0-4610-c218-de4284b9fbc5"
      },
      "execution_count": 11,
      "outputs": [
        {
          "output_type": "stream",
          "name": "stdout",
          "text": [
            "[50, 40, 30, 20, 10]\n"
          ]
        }
      ]
    },
    {
      "cell_type": "markdown",
      "source": [
        "**11.Write a code to create a tuple with the elements 10, 20, 30 and print it**"
      ],
      "metadata": {
        "id": "0AAqt19OrBmT"
      }
    },
    {
      "cell_type": "markdown",
      "source": [
        "Ans-->\n"
      ],
      "metadata": {
        "id": "f77BwbbKrKNS"
      }
    },
    {
      "cell_type": "code",
      "source": [
        "# Creating the tuple\n",
        "my_tuple = (10, 20, 30)\n",
        "\n",
        "# Printing the tuple\n",
        "print(my_tuple)\n"
      ],
      "metadata": {
        "colab": {
          "base_uri": "https://localhost:8080/"
        },
        "id": "liTbUAcfrLs_",
        "outputId": "4f177f1b-0c80-4ce7-942f-bddc53c28092"
      },
      "execution_count": 12,
      "outputs": [
        {
          "output_type": "stream",
          "name": "stdout",
          "text": [
            "(10, 20, 30)\n"
          ]
        }
      ]
    },
    {
      "cell_type": "markdown",
      "source": [
        "**12.Write a code to access the first element of the tuple ('apple', 'banana', 'cherry').**"
      ],
      "metadata": {
        "id": "TSXpxlRwrPkX"
      }
    },
    {
      "cell_type": "markdown",
      "source": [
        "Ans-->\n"
      ],
      "metadata": {
        "id": "qU3Lsna1rXLW"
      }
    },
    {
      "cell_type": "code",
      "source": [
        "my_tuple = ('apple', 'banana', 'cherry')\n",
        "first_element = my_tuple[0]\n",
        "print(first_element)\n"
      ],
      "metadata": {
        "colab": {
          "base_uri": "https://localhost:8080/"
        },
        "id": "NPRpDCxRraDd",
        "outputId": "e77b6424-492c-40f4-9a3c-c4167aed6bad"
      },
      "execution_count": 13,
      "outputs": [
        {
          "output_type": "stream",
          "name": "stdout",
          "text": [
            "apple\n"
          ]
        }
      ]
    },
    {
      "cell_type": "markdown",
      "source": [
        "**13.Write a code to count how many times the number 2 appears in the tuple (1, 2, 3, 2, 4, 2)**"
      ],
      "metadata": {
        "id": "n9n08Sdcrcd0"
      }
    },
    {
      "cell_type": "markdown",
      "source": [
        "Ans-->\n"
      ],
      "metadata": {
        "id": "aIYXJrderliJ"
      }
    },
    {
      "cell_type": "code",
      "source": [
        "# Define the tuple\n",
        "my_tuple = (1, 2, 3, 2, 4, 2)\n",
        "\n",
        "# Count occurrences of the number 2\n",
        "count_of_two = my_tuple.count(2)\n",
        "\n",
        "# Print the result\n",
        "print(count_of_two)\n"
      ],
      "metadata": {
        "colab": {
          "base_uri": "https://localhost:8080/"
        },
        "id": "4ElmP8RkrnQ3",
        "outputId": "8e86dc00-7bf9-4889-f759-9e639f1d7f8b"
      },
      "execution_count": 14,
      "outputs": [
        {
          "output_type": "stream",
          "name": "stdout",
          "text": [
            "3\n"
          ]
        }
      ]
    },
    {
      "cell_type": "markdown",
      "source": [
        "**14.Write a code to find the index of the element \"cat\" in the tuple ('dog', 'cat', 'rabbit')**"
      ],
      "metadata": {
        "id": "mib8U94etSWK"
      }
    },
    {
      "cell_type": "markdown",
      "source": [
        "Ans-->\n"
      ],
      "metadata": {
        "id": "3RSsiQ_ztZoH"
      }
    },
    {
      "cell_type": "code",
      "source": [
        "# Define the tuple\n",
        "animals = ('dog', 'cat', 'rabbit')\n",
        "\n",
        "# Find the index of 'cat'\n",
        "index_of_cat = animals.index('cat')\n",
        "\n",
        "# Print the result\n",
        "print(index_of_cat)\n"
      ],
      "metadata": {
        "colab": {
          "base_uri": "https://localhost:8080/"
        },
        "id": "wQ23D5mHtbLv",
        "outputId": "29979c6f-2538-4d1f-8128-bc4e41f69dc5"
      },
      "execution_count": 15,
      "outputs": [
        {
          "output_type": "stream",
          "name": "stdout",
          "text": [
            "1\n"
          ]
        }
      ]
    },
    {
      "cell_type": "markdown",
      "source": [
        "**15.Write a code to check if the element \"banana\" is in the tuple ('apple', 'orange', 'banana')**"
      ],
      "metadata": {
        "id": "E-Oxr_SOtfXG"
      }
    },
    {
      "cell_type": "markdown",
      "source": [
        "Ans-->\n"
      ],
      "metadata": {
        "id": "DcHMDmXptl8Q"
      }
    },
    {
      "cell_type": "code",
      "source": [
        "my_tuple = ('apple', 'orange', 'banana')\n",
        "\n",
        "if 'banana' in my_tuple:\n",
        "    print(\"Yes, 'banana' is in the tuple.\")\n",
        "else:\n",
        "    print(\"No, 'banana' is not in the tuple.\")\n"
      ],
      "metadata": {
        "colab": {
          "base_uri": "https://localhost:8080/"
        },
        "id": "IKG-mir-tnu7",
        "outputId": "ad420387-6a5f-4222-9b36-77b86fc68182"
      },
      "execution_count": 16,
      "outputs": [
        {
          "output_type": "stream",
          "name": "stdout",
          "text": [
            "Yes, 'banana' is in the tuple.\n"
          ]
        }
      ]
    },
    {
      "cell_type": "markdown",
      "source": [
        "**16.Write a code to create a set with the elements 1, 2, 3, 4, 5 and print it**"
      ],
      "metadata": {
        "id": "8ho8OvgptrHD"
      }
    },
    {
      "cell_type": "markdown",
      "source": [
        "Ans-->\n"
      ],
      "metadata": {
        "id": "b6A9FGsptwwb"
      }
    },
    {
      "cell_type": "code",
      "source": [
        "# Create a set with the elements 1, 2, 3, 4, 5\n",
        "my_set = {1, 2, 3, 4, 5}\n",
        "\n",
        "# Print the set\n",
        "print(my_set)\n"
      ],
      "metadata": {
        "colab": {
          "base_uri": "https://localhost:8080/"
        },
        "id": "5sXI0PVRty2r",
        "outputId": "7d2fe0eb-899d-45c8-c3ab-95ae6bf2c158"
      },
      "execution_count": 17,
      "outputs": [
        {
          "output_type": "stream",
          "name": "stdout",
          "text": [
            "{1, 2, 3, 4, 5}\n"
          ]
        }
      ]
    },
    {
      "cell_type": "markdown",
      "source": [
        "**17.Write a code to add the element 6 to the set {1, 2, 3, 4}**"
      ],
      "metadata": {
        "id": "xzo_L2yzt1ZO"
      }
    },
    {
      "cell_type": "markdown",
      "source": [
        "Ans-->\n"
      ],
      "metadata": {
        "id": "t-YN51-Nt-WI"
      }
    },
    {
      "cell_type": "code",
      "source": [
        "my_set = {1, 2, 3, 4}\n",
        "my_set.add(6)\n",
        "print(my_set)\n"
      ],
      "metadata": {
        "colab": {
          "base_uri": "https://localhost:8080/"
        },
        "id": "aTfI4PaauAA3",
        "outputId": "9f5f79a4-82d5-42c4-90b1-26c41a1ea4f4"
      },
      "execution_count": 18,
      "outputs": [
        {
          "output_type": "stream",
          "name": "stdout",
          "text": [
            "{1, 2, 3, 4, 6}\n"
          ]
        }
      ]
    },
    {
      "cell_type": "markdown",
      "source": [
        "**18.Write a code to create a tuple with the elements 10, 20, 30 and print it.**"
      ],
      "metadata": {
        "id": "C-LvRe6fuCVu"
      }
    },
    {
      "cell_type": "markdown",
      "source": [
        "Ans-->\n"
      ],
      "metadata": {
        "id": "2_V-xDHXuJtl"
      }
    },
    {
      "cell_type": "code",
      "source": [
        "# Create a tuple\n",
        "my_tuple = (10, 20, 30)\n",
        "\n",
        "# Print the tuple\n",
        "print(my_tuple)\n"
      ],
      "metadata": {
        "colab": {
          "base_uri": "https://localhost:8080/"
        },
        "id": "XQIcKilDuLPj",
        "outputId": "a3f0ce36-cdd6-42d0-87eb-52c426719565"
      },
      "execution_count": 19,
      "outputs": [
        {
          "output_type": "stream",
          "name": "stdout",
          "text": [
            "(10, 20, 30)\n"
          ]
        }
      ]
    },
    {
      "cell_type": "markdown",
      "source": [
        "**19.Write a code to access the first element of the tuple ('apple', 'banana', 'cherry')**"
      ],
      "metadata": {
        "id": "pXWszQU0uNDj"
      }
    },
    {
      "cell_type": "markdown",
      "source": [
        "Ans-->\n"
      ],
      "metadata": {
        "id": "4ykGEOkHuSL7"
      }
    },
    {
      "cell_type": "code",
      "source": [
        "# Create a tuple\n",
        "my_tuple = (10, 20, 30)\n",
        "\n",
        "# Print the tuple\n",
        "print(my_tuple)\n"
      ],
      "metadata": {
        "colab": {
          "base_uri": "https://localhost:8080/"
        },
        "id": "T0bOtCQSuT7m",
        "outputId": "69ad2556-5d6d-4d4a-b826-179c6868cf1e"
      },
      "execution_count": 20,
      "outputs": [
        {
          "output_type": "stream",
          "name": "stdout",
          "text": [
            "(10, 20, 30)\n"
          ]
        }
      ]
    },
    {
      "cell_type": "markdown",
      "source": [
        "**20.Write a code to count how many times the number 2 appears in the tuple (1, 2, 3, 2, 4, 2)**"
      ],
      "metadata": {
        "id": "vXSi9eMUuV92"
      }
    },
    {
      "cell_type": "markdown",
      "source": [
        "Ans-->\n"
      ],
      "metadata": {
        "id": "ac_VH-RVubH9"
      }
    },
    {
      "cell_type": "code",
      "source": [
        "# Define the tuple\n",
        "my_tuple = (1, 2, 3, 2, 4, 2)\n",
        "\n",
        "# Count how many times the number 2 appears\n",
        "count_of_2 = my_tuple.count(2)\n",
        "\n",
        "# Print the result\n",
        "print(count_of_2)\n"
      ],
      "metadata": {
        "colab": {
          "base_uri": "https://localhost:8080/"
        },
        "id": "4HqVEvusucpX",
        "outputId": "cc37c34c-201d-4295-d552-a1646c90fecf"
      },
      "execution_count": 21,
      "outputs": [
        {
          "output_type": "stream",
          "name": "stdout",
          "text": [
            "3\n"
          ]
        }
      ]
    },
    {
      "cell_type": "markdown",
      "source": [
        "**21.Write a code to find the index of the element \"cat\" in the tuple ('dog', 'cat', 'rabbit')**"
      ],
      "metadata": {
        "id": "ggh4y1oeufBH"
      }
    },
    {
      "cell_type": "markdown",
      "source": [
        "Ans-->\n"
      ],
      "metadata": {
        "id": "MevjkGemukqK"
      }
    },
    {
      "cell_type": "code",
      "source": [
        "my_tuple = ('dog', 'cat', 'rabbit')\n",
        "index = my_tuple.index('cat')\n",
        "print(index)\n"
      ],
      "metadata": {
        "colab": {
          "base_uri": "https://localhost:8080/"
        },
        "id": "vQPJ0C2zumUC",
        "outputId": "978d3285-5bd1-4125-effb-13f5a705d4eb"
      },
      "execution_count": 22,
      "outputs": [
        {
          "output_type": "stream",
          "name": "stdout",
          "text": [
            "1\n"
          ]
        }
      ]
    },
    {
      "cell_type": "markdown",
      "source": [
        "**22.Write a code to check if the element \"banana\" is in the tuple ('apple', 'orange', 'banana').**"
      ],
      "metadata": {
        "id": "e_UaHBwqupEK"
      }
    },
    {
      "cell_type": "markdown",
      "source": [
        "Ans-->\n"
      ],
      "metadata": {
        "id": "_NTOGf-9uyfm"
      }
    },
    {
      "cell_type": "code",
      "source": [
        "my_tuple = ('apple', 'orange', 'banana')\n",
        "\n",
        "if 'banana' in my_tuple:\n",
        "    print(\"Banana is in the tuple.\")\n",
        "else:\n",
        "    print(\"Banana is not in the tuple.\")\n"
      ],
      "metadata": {
        "colab": {
          "base_uri": "https://localhost:8080/"
        },
        "id": "y5jG-aawu0XN",
        "outputId": "f6b0bd82-fba8-4010-f07a-445c81fdd2c8"
      },
      "execution_count": 23,
      "outputs": [
        {
          "output_type": "stream",
          "name": "stdout",
          "text": [
            "Banana is in the tuple.\n"
          ]
        }
      ]
    },
    {
      "cell_type": "markdown",
      "source": [
        "**23.Write a code to create a set with the elements 1, 2, 3, 4, 5 and print it**"
      ],
      "metadata": {
        "id": "QkLx3baXu7c1"
      }
    },
    {
      "cell_type": "markdown",
      "source": [
        "Ans-->\n"
      ],
      "metadata": {
        "id": "fmvTtrieu_8x"
      }
    },
    {
      "cell_type": "code",
      "source": [
        "# Create a set with elements 1, 2, 3, 4, 5\n",
        "my_set = {1, 2, 3, 4, 5}\n",
        "\n",
        "# Print the set\n",
        "print(my_set)\n"
      ],
      "metadata": {
        "colab": {
          "base_uri": "https://localhost:8080/"
        },
        "id": "I67EvXFFvBV5",
        "outputId": "83c4a5a8-9d94-410c-e537-53f7f57abc3d"
      },
      "execution_count": 24,
      "outputs": [
        {
          "output_type": "stream",
          "name": "stdout",
          "text": [
            "{1, 2, 3, 4, 5}\n"
          ]
        }
      ]
    },
    {
      "cell_type": "markdown",
      "source": [
        "**24. Write a code to add the element 6 to the set {1, 2, 3, 4}.**"
      ],
      "metadata": {
        "id": "Guzdgp-3vDnI"
      }
    },
    {
      "cell_type": "markdown",
      "source": [
        "Ans-->\n"
      ],
      "metadata": {
        "id": "qnTJRfr0vLuv"
      }
    },
    {
      "cell_type": "code",
      "source": [
        "my_set = {1, 2, 3, 4}\n",
        "my_set.add(6)\n",
        "print(my_set)\n"
      ],
      "metadata": {
        "colab": {
          "base_uri": "https://localhost:8080/"
        },
        "id": "XazeK2BvvNT5",
        "outputId": "9dd47dbc-c90e-424b-ed6e-3f49e6b176bc"
      },
      "execution_count": 25,
      "outputs": [
        {
          "output_type": "stream",
          "name": "stdout",
          "text": [
            "{1, 2, 3, 4, 6}\n"
          ]
        }
      ]
    },
    {
      "cell_type": "markdown",
      "source": [
        "# Assignment Completed"
      ],
      "metadata": {
        "id": "l-yqd2xIvP3L"
      }
    }
  ]
}